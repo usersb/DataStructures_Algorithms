{
 "cells": [
  {
   "cell_type": "markdown",
   "metadata": {},
   "source": [
    "**Implementation of Bubble Sort**"
   ]
  },
  {
   "cell_type": "code",
   "execution_count": 28,
   "metadata": {
    "collapsed": false
   },
   "outputs": [],
   "source": [
    "\n",
    "def BubbleSort(ip_arr):\n",
    "    \n",
    "    for n in range(len(ip_arr)-1,0,-1):  # n-1 passes\n",
    "        print('This is n:',n)\n",
    "        for k in range(n):  # go through the list moving ahead one item at a time\n",
    "            print('This is k:',k)\n",
    "            #Compare two elements\n",
    "            if ip_arr[k] > ip_arr[k+1]:\n",
    "                ip_arr[k],ip_arr[k+1] = ip_arr[k+1],ip_arr[k]\n",
    "                \n",
    "    print(ip_arr)             \n",
    "    \n",
    "    "
   ]
  },
  {
   "cell_type": "code",
   "execution_count": 29,
   "metadata": {
    "collapsed": false
   },
   "outputs": [
    {
     "name": "stdout",
     "output_type": "stream",
     "text": [
      "This is n: 4\n",
      "This is k: 0\n",
      "This is k: 1\n",
      "This is k: 2\n",
      "This is k: 3\n",
      "This is n: 3\n",
      "This is k: 0\n",
      "This is k: 1\n",
      "This is k: 2\n",
      "This is n: 2\n",
      "This is k: 0\n",
      "This is k: 1\n",
      "This is n: 1\n",
      "This is k: 0\n",
      "[1, 2, 4, 5, 8]\n"
     ]
    }
   ],
   "source": [
    "arr_to_sort = [5,1,4,2,8]\n",
    "BubbleSort(arr_to_sort)"
   ]
  }
 ],
 "metadata": {
  "kernelspec": {
   "display_name": "Python [conda env:py35]",
   "language": "python",
   "name": "conda-env-py35-py"
  },
  "language_info": {
   "codemirror_mode": {
    "name": "ipython",
    "version": 3
   },
   "file_extension": ".py",
   "mimetype": "text/x-python",
   "name": "python",
   "nbconvert_exporter": "python",
   "pygments_lexer": "ipython3",
   "version": "3.5.2"
  }
 },
 "nbformat": 4,
 "nbformat_minor": 1
}
