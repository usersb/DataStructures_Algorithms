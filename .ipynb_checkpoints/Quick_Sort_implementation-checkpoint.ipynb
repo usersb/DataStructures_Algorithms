{
 "cells": [
  {
   "cell_type": "markdown",
   "metadata": {},
   "source": [
    "**Implementation of Quick Sort**"
   ]
  },
  {
   "cell_type": "code",
   "execution_count": 4,
   "metadata": {
    "collapsed": true
   },
   "outputs": [],
   "source": [
    "def Quick_Sort(arr):\n",
    "    \n",
    "    Quick_Sort_help(arr,0,len(arr)-1)"
   ]
  },
  {
   "cell_type": "code",
   "execution_count": 5,
   "metadata": {
    "collapsed": true
   },
   "outputs": [],
   "source": [
    "def Quick_Sort_help(arr,first,last):\n",
    "    \n",
    "    if first < last:\n",
    "        \n",
    "        split_point = partition(arr,first,last)\n",
    "        \n",
    "        Quick_Sort_help(arr, first, split_point-1)\n",
    "        Quick_Sort_help(arr, split_point+1, last)"
   ]
  },
  {
   "cell_type": "code",
   "execution_count": 15,
   "metadata": {
    "collapsed": true
   },
   "outputs": [],
   "source": [
    "def partition(arr,first,last):\n",
    "    \n",
    "    pivot_value = arr[first]\n",
    "    \n",
    "    left_mark = first+1\n",
    "    right_mark = last\n",
    "    \n",
    "    done = False\n",
    "    \n",
    "    while not done:\n",
    "        \n",
    "        while left_mark <= right_mark and arr[left_mark] <= pivot_value:\n",
    "            left_mark += 1\n",
    "            \n",
    "        while right_mark >= left_mark and arr[right_mark] >= pivot_value:\n",
    "            right_mark -= 1\n",
    "            \n",
    "        if right_mark < left_mark:\n",
    "            done = True\n",
    "        else:   \n",
    "            arr[left_mark], arr[right_mark] = arr[right_mark],arr[left_mark]\n",
    "        \n",
    "    arr[first],arr[right_mark] = arr[right_mark],arr[first]\n",
    "    \n",
    "    return right_mark"
   ]
  },
  {
   "cell_type": "code",
   "execution_count": 16,
   "metadata": {
    "collapsed": false
   },
   "outputs": [
    {
     "data": {
      "text/plain": [
       "[17, 20, 26, 31, 44, 54, 55, 77, 93]"
      ]
     },
     "execution_count": 16,
     "metadata": {},
     "output_type": "execute_result"
    }
   ],
   "source": [
    "arr = [54,26,93,17,77,31,44,55,20]\n",
    "Quick_Sort(arr)\n",
    "arr"
   ]
  },
  {
   "cell_type": "code",
   "execution_count": null,
   "metadata": {
    "collapsed": true
   },
   "outputs": [],
   "source": []
  }
 ],
 "metadata": {
  "kernelspec": {
   "display_name": "Python [conda env:py35]",
   "language": "python",
   "name": "conda-env-py35-py"
  },
  "language_info": {
   "codemirror_mode": {
    "name": "ipython",
    "version": 3
   },
   "file_extension": ".py",
   "mimetype": "text/x-python",
   "name": "python",
   "nbconvert_exporter": "python",
   "pygments_lexer": "ipython3",
   "version": "3.5.2"
  }
 },
 "nbformat": 4,
 "nbformat_minor": 1
}
