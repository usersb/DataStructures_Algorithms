{
 "cells": [
  {
   "cell_type": "markdown",
   "metadata": {},
   "source": [
    "**Implementation of Selection Sort**"
   ]
  },
  {
   "cell_type": "code",
   "execution_count": 3,
   "metadata": {
    "collapsed": true
   },
   "outputs": [],
   "source": [
    "def SelectionSort(ip_arr):\n",
    "    \n",
    "    for fillslot in range(len(ip_arr)-1,0,-1):\n",
    "        \n",
    "        position_of_max = 0\n",
    "        \n",
    "        for location in range(1,fillslot+1):\n",
    "            if ip_arr[location] > ip_arr[position_of_max]:\n",
    "                position_of_max = location\n",
    "                \n",
    "        ip_arr[fillslot],ip_arr[position_of_max] = ip_arr[position_of_max], ip_arr[fillslot] \n",
    "    "
   ]
  },
  {
   "cell_type": "code",
   "execution_count": 4,
   "metadata": {
    "collapsed": false
   },
   "outputs": [
    {
     "data": {
      "text/plain": [
       "[1, 2, 4, 5, 8]"
      ]
     },
     "execution_count": 4,
     "metadata": {},
     "output_type": "execute_result"
    }
   ],
   "source": [
    "arr = [5,1,4,2,8]\n",
    "SelectionSort(arr)\n",
    "arr"
   ]
  }
 ],
 "metadata": {
  "kernelspec": {
   "display_name": "Python [conda env:py35]",
   "language": "python",
   "name": "conda-env-py35-py"
  },
  "language_info": {
   "codemirror_mode": {
    "name": "ipython",
    "version": 3
   },
   "file_extension": ".py",
   "mimetype": "text/x-python",
   "name": "python",
   "nbconvert_exporter": "python",
   "pygments_lexer": "ipython3",
   "version": "3.5.2"
  }
 },
 "nbformat": 4,
 "nbformat_minor": 1
}
