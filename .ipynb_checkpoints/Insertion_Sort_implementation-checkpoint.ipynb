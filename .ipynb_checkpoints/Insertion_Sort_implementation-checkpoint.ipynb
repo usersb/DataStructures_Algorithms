{
 "cells": [
  {
   "cell_type": "markdown",
   "metadata": {},
   "source": [
    "**Implementation of Insertion sort**"
   ]
  },
  {
   "cell_type": "code",
   "execution_count": 2,
   "metadata": {
    "collapsed": true
   },
   "outputs": [],
   "source": [
    "def InsertionSort(arr):\n",
    "    \n",
    "    for i in range(1,len(arr)): #range starts from 1 as we consider arr[0] as the sorted arr\n",
    "        \n",
    "        current_value = arr[i] # remove the first element of the unsorted arr\n",
    "        position = i #set up the pointer at the current_value\n",
    "        \n",
    "        while position > 0 and arr[position - 1] > current_value: \n",
    "        #compare the current_value with the element at the previous position and swap if it is. continue to check all\n",
    "        #the elements in the sorted array till postion is greater than 0\n",
    "        \n",
    "            arr[position] = arr[position -1]\n",
    "            position = position -1\n",
    "            \n",
    "        arr[position] = current_value\n",
    "        "
   ]
  },
  {
   "cell_type": "code",
   "execution_count": 3,
   "metadata": {
    "collapsed": false
   },
   "outputs": [
    {
     "name": "stdout",
     "output_type": "stream",
     "text": [
      "[1, 2, 3, 4, 5, 6, 7, 9]\n"
     ]
    }
   ],
   "source": [
    "arr = [3, 7, 4, 9, 5, 2, 6, 1]\n",
    "InsertionSort(arr)\n",
    "print(arr)"
   ]
  },
  {
   "cell_type": "code",
   "execution_count": null,
   "metadata": {
    "collapsed": true
   },
   "outputs": [],
   "source": []
  }
 ],
 "metadata": {
  "kernelspec": {
   "display_name": "Python [conda env:py35]",
   "language": "python",
   "name": "conda-env-py35-py"
  },
  "language_info": {
   "codemirror_mode": {
    "name": "ipython",
    "version": 3
   },
   "file_extension": ".py",
   "mimetype": "text/x-python",
   "name": "python",
   "nbconvert_exporter": "python",
   "pygments_lexer": "ipython3",
   "version": "3.5.2"
  }
 },
 "nbformat": 4,
 "nbformat_minor": 1
}
