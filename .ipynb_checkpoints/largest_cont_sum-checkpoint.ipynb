{
 "cells": [
  {
   "cell_type": "code",
   "execution_count": 73,
   "metadata": {
    "collapsed": false
   },
   "outputs": [],
   "source": [
    "def largest_cont_sum(arr):\n",
    "    \n",
    "    mem = []\n",
    "    arr_len = len(arr)\n",
    "    \n",
    "    for index in range(0,(arr_len)):\n",
    "        \n",
    "        if len(mem) == 0:\n",
    "            \n",
    "            mem.append(arr[index])\n",
    "            start = mem[0]\n",
    "            max_sum = mem[len(mem)-1]\n",
    "        else:\n",
    "            \n",
    "            max_sum = mem[len(mem)-1]\n",
    "            mem.append(arr[index] + mem[len(mem)-1])\n",
    "            curr_sum = mem[len(mem)-1]\n",
    "            \n",
    "            if curr_sum > max_sum:\n",
    "                max_sum = curr_sum\n",
    "                stop = arr[index]\n",
    "            \n",
    "            if arr[index] == (arr_len-1):\n",
    "                mem.append(arr[index])\n",
    "    print(mem) \n",
    "    print(start)\n",
    "    print(stop)\n",
    "    return(max(mem))\n",
    "        "
   ]
  },
  {
   "cell_type": "code",
   "execution_count": 74,
   "metadata": {
    "collapsed": false
   },
   "outputs": [
    {
     "name": "stdout",
     "output_type": "stream",
     "text": [
      "[-1, 0, 1]\n",
      "-1\n",
      "1\n",
      "1\n"
     ]
    }
   ],
   "source": [
    "ip_array = [-1,1]\n",
    "#ip_array = [1,2,-1,3,4,-1]\n",
    "#ip_array = [1,2,-1,3,4,10,10,-10,-1]\n",
    "\n",
    "ans = largest_cont_sum(ip_array)\n",
    "print(ans)"
   ]
  },
  {
   "cell_type": "code",
   "execution_count": 75,
   "metadata": {
    "collapsed": false
   },
   "outputs": [
    {
     "name": "stdout",
     "output_type": "stream",
     "text": [
      "[1, 3, 2, 5, 9, 8]\n",
      "1\n",
      "4\n",
      "[1, 3, 2, 5, 9, 19, 29, 19, 18]\n",
      "1\n",
      "10\n",
      "[-1, 0, 1]\n",
      "-1\n",
      "1\n",
      "ALL TEST CASES PASSED\n"
     ]
    }
   ],
   "source": [
    "from nose.tools import assert_equal\n",
    "\n",
    "class LargeContTest(object):\n",
    "    def test(self,sol):\n",
    "        assert_equal(sol([1,2,-1,3,4,-1]),9)\n",
    "        assert_equal(sol([1,2,-1,3,4,10,10,-10,-1]),29)\n",
    "        assert_equal(sol([-1,1]),1)\n",
    "        print('ALL TEST CASES PASSED')\n",
    "        \n",
    "#Run Test\n",
    "t = LargeContTest()\n",
    "t.test(largest_cont_sum)"
   ]
  },
  {
   "cell_type": "code",
   "execution_count": null,
   "metadata": {
    "collapsed": true
   },
   "outputs": [],
   "source": []
  }
 ],
 "metadata": {
  "kernelspec": {
   "display_name": "Python [conda env:py35]",
   "language": "python",
   "name": "conda-env-py35-py"
  },
  "language_info": {
   "codemirror_mode": {
    "name": "ipython",
    "version": 3
   },
   "file_extension": ".py",
   "mimetype": "text/x-python",
   "name": "python",
   "nbconvert_exporter": "python",
   "pygments_lexer": "ipython3",
   "version": "3.5.2"
  }
 },
 "nbformat": 4,
 "nbformat_minor": 1
}
