{
 "cells": [
  {
   "cell_type": "markdown",
   "metadata": {},
   "source": [
    "**Implementation of Merge Sort**"
   ]
  },
  {
   "cell_type": "code",
   "execution_count": 11,
   "metadata": {
    "collapsed": true
   },
   "outputs": [],
   "source": [
    "def MergeSort(arr):\n",
    "    \n",
    "    #Base case check\n",
    "    #if len(arr) <= 1 then the array is considered to be sorted and no need to sort it further\n",
    "    \n",
    "    if len(arr) > 1:\n",
    "        \n",
    "        mid = len(arr) // 2\n",
    "        #print(mid)\n",
    "        lefthalf = arr[:mid]\n",
    "        righthalf = arr[mid:]\n",
    "        \n",
    "        MergeSort(lefthalf)\n",
    "        MergeSort(righthalf)\n",
    "        \n",
    "        #Sorting and merging the smaller sorted lists together\n",
    "        i=0\n",
    "        j=0\n",
    "        k=0\n",
    "        \n",
    "        while i < len(lefthalf) and j < len(righthalf):\n",
    "            \n",
    "            if lefthalf[i] < righthalf[j]:\n",
    "                arr[k] = lefthalf[i]\n",
    "                i += 1 \n",
    "            else:\n",
    "                arr[k] = righthalf[j]\n",
    "                j += 1\n",
    "                \n",
    "            k += 1\n",
    "            \n",
    "        while i < len(lefthalf):\n",
    "            arr[k] = lefthalf[i]\n",
    "            i+=1\n",
    "            k+=1\n",
    "            \n",
    "        while j< len(righthalf):\n",
    "            arr[k] = righthalf[j]\n",
    "            j+=1\n",
    "            k+=1\n",
    "            \n",
    "    print('Merging',arr)\n",
    "            "
   ]
  },
  {
   "cell_type": "code",
   "execution_count": 12,
   "metadata": {
    "collapsed": false
   },
   "outputs": [
    {
     "name": "stdout",
     "output_type": "stream",
     "text": [
      "Merging [54]\n",
      "Merging [26]\n",
      "Merging [26, 54]\n",
      "Merging [93]\n",
      "Merging [17]\n",
      "Merging [17, 93]\n",
      "Merging [17, 26, 54, 93]\n",
      "Merging [77]\n",
      "Merging [31]\n",
      "Merging [31, 77]\n",
      "Merging [44]\n",
      "Merging [55]\n",
      "Merging [20]\n",
      "Merging [20, 55]\n",
      "Merging [20, 44, 55]\n",
      "Merging [20, 31, 44, 55, 77]\n",
      "Merging [17, 20, 26, 31, 44, 54, 55, 77, 93]\n"
     ]
    },
    {
     "data": {
      "text/plain": [
       "[17, 20, 26, 31, 44, 54, 55, 77, 93]"
      ]
     },
     "execution_count": 12,
     "metadata": {},
     "output_type": "execute_result"
    }
   ],
   "source": [
    "arr = [54,26,93,17,77,31,44,55,20]\n",
    "\n",
    "MergeSort(arr)\n",
    "arr"
   ]
  },
  {
   "cell_type": "code",
   "execution_count": null,
   "metadata": {
    "collapsed": true
   },
   "outputs": [],
   "source": []
  }
 ],
 "metadata": {
  "kernelspec": {
   "display_name": "Python [conda env:py35]",
   "language": "python",
   "name": "conda-env-py35-py"
  },
  "language_info": {
   "codemirror_mode": {
    "name": "ipython",
    "version": 3
   },
   "file_extension": ".py",
   "mimetype": "text/x-python",
   "name": "python",
   "nbconvert_exporter": "python",
   "pygments_lexer": "ipython3",
   "version": "3.5.2"
  }
 },
 "nbformat": 4,
 "nbformat_minor": 1
}
