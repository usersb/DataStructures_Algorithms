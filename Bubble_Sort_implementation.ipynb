{
 "cells": [
  {
   "cell_type": "markdown",
   "metadata": {},
   "source": [
    "**Implementation of Bubble Sort**"
   ]
  },
  {
   "cell_type": "code",
   "execution_count": 30,
   "metadata": {
    "collapsed": false
   },
   "outputs": [],
   "source": [
    "\n",
    "def BubbleSort(ip_arr):\n",
    "    \n",
    "    for n in range(len(ip_arr)-1,0,-1):  # n-1 passes\n",
    "        #print('This is n:',n)\n",
    "        for k in range(n):  # go through the list moving ahead one item at a time\n",
    "            #print('This is k:',k)\n",
    "            #Compare two elements\n",
    "            if ip_arr[k] > ip_arr[k+1]:\n",
    "                ip_arr[k],ip_arr[k+1] = ip_arr[k+1],ip_arr[k]\n",
    "                \n",
    "    print(ip_arr)             \n",
    "    \n",
    "    "
   ]
  },
  {
   "cell_type": "code",
   "execution_count": 31,
   "metadata": {
    "collapsed": false
   },
   "outputs": [
    {
     "name": "stdout",
     "output_type": "stream",
     "text": [
      "[1, 2, 4, 5, 8]\n"
     ]
    }
   ],
   "source": [
    "arr_to_sort = [5,1,4,2,8]\n",
    "BubbleSort(arr_to_sort)"
   ]
  },
  {
   "cell_type": "code",
   "execution_count": null,
   "metadata": {
    "collapsed": true
   },
   "outputs": [],
   "source": []
  }
 ],
 "metadata": {
  "kernelspec": {
   "display_name": "Python [conda env:py35]",
   "language": "python",
   "name": "conda-env-py35-py"
  },
  "language_info": {
   "codemirror_mode": {
    "name": "ipython",
    "version": 3
   },
   "file_extension": ".py",
   "mimetype": "text/x-python",
   "name": "python",
   "nbconvert_exporter": "python",
   "pygments_lexer": "ipython3",
   "version": "3.5.2"
  }
 },
 "nbformat": 4,
 "nbformat_minor": 1
}
