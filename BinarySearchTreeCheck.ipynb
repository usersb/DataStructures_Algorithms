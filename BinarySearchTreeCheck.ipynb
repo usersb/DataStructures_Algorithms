{
 "cells": [
  {
   "cell_type": "markdown",
   "metadata": {},
   "source": [
    "**Check if a tree is a Binary Search Tree**"
   ]
  },
  {
   "cell_type": "code",
   "execution_count": null,
   "metadata": {
    "collapsed": true
   },
   "outputs": [],
   "source": [
    "def BinaryTree(object):\n",
    "    \n",
    "    def _init_(self, rootobj):\n",
    "        \n",
    "        self.key = rootobj\n",
    "        self.leftChild = None\n",
    "        self.rightChild = None\n",
    "        \n",
    "    def insertLeftChild(self,NewNode):\n",
    "        if self.leftChild == None:\n",
    "            self.leftChild = BinaryTree(NewNode)\n",
    "        else:\n",
    "            t = BinaryTree(NewNode)\n",
    "            t.leftChild = self.leftChild\n",
    "            self.leftChild = t\n",
    "            \n",
    "    def insertRightChild(self,NewNode):\n",
    "        if self.rightChild == None:\n",
    "            self.rightChild = BinaryTree(NewNode)\n",
    "        else:\n",
    "            t = BinaryTree(NewNode)\n",
    "            t.rightChild = self.rightChild\n",
    "            self.rightChild = t\n",
    "            \n",
    "    def getLeftChild(self):\n",
    "        return(self.leftChild)\n",
    "    \n",
    "    def getRightChild(self):\n",
    "        return(self.rightChild)\n",
    "    \n",
    "    def setRootVal(self,obj):\n",
    "        self.key = obj\n",
    "        \n",
    "    def getRootVal(self):\n",
    "        return(self.key)\n",
    "\n",
    "treeVals = []\n",
    "\n",
    "def inorder(tree):\n",
    "    if tree != None:\n",
    "        inorder(tree.getLeftChild())\n",
    "        treeVals.append(inorder(tree.getRootVal()))\n",
    "        inorder(tree.getRightChild())\n",
    "    \n",
    "def sorted_check(treeVals):\n",
    "    return(treeVals == sorted(treeVals))\n",
    "\n",
    "def checkBST(tree):\n",
    "    inorder(tree)\n",
    "    ans = sorted_check(treeVals)\n",
    "    print(ans)\n",
    "    \n",
    "            \n",
    "    \n",
    "        "
   ]
  }
 ],
 "metadata": {
  "kernelspec": {
   "display_name": "Python [conda env:py35]",
   "language": "python",
   "name": "conda-env-py35-py"
  },
  "language_info": {
   "codemirror_mode": {
    "name": "ipython",
    "version": 3
   },
   "file_extension": ".py",
   "mimetype": "text/x-python",
   "name": "python",
   "nbconvert_exporter": "python",
   "pygments_lexer": "ipython3",
   "version": "3.5.2"
  }
 },
 "nbformat": 4,
 "nbformat_minor": 1
}
