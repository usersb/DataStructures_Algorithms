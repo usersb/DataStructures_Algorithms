{
 "cells": [
  {
   "cell_type": "markdown",
   "metadata": {},
   "source": [
    "**Balanaced Paranthesis check**\n",
    "\n",
    "**Problem Statement**\n",
    "\n",
    "Given a string of opening and closing parentheses, check whether it’s balanced. We have 3 types of parentheses: round brackets: (), square brackets: [], and curly brackets: {}. Assume that the string doesn’t contain any other character than these, no spaces words or numbers. As a reminder, balanced parentheses require every opening parenthesis to be closed in the reverse order opened. For example ‘([])’ is balanced but ‘([)]’ is not.\n",
    "\n",
    "You can assume the input string has no spaces."
   ]
  },
  {
   "cell_type": "code",
   "execution_count": 25,
   "metadata": {
    "collapsed": true
   },
   "outputs": [],
   "source": [
    "class Stack:\n",
    "    \n",
    "    def __init__(self):\n",
    "        self.stack = []\n",
    "        \n",
    "    def isEmpty(self):\n",
    "        return self.stack == []\n",
    "    \n",
    "    def push(self,item):\n",
    "        self.stack.append(item)\n",
    "        \n",
    "    def pop(self):\n",
    "        return self.stack.pop()\n",
    "        \n",
    "    def peek(self):\n",
    "        return self.stack[len(self.stack)-1]\n",
    "        \n",
    "    def size(self):\n",
    "        return len(self.stack)\n"
   ]
  },
  {
   "cell_type": "code",
   "execution_count": 57,
   "metadata": {
    "collapsed": true
   },
   "outputs": [],
   "source": [
    "def balance_check(ipstr):\n",
    "    \n",
    "    print(ipstr)\n",
    "    print(len(ipstr))\n",
    "    paren_stack = Stack()\n",
    "    \n",
    "    #Edge Case\n",
    "    #Check for even number of brackets else return False and donot proceed\n",
    "    if len(ipstr) % 2 != 0:\n",
    "        return False\n",
    "    \n",
    "    opening = set('([{')\n",
    "    closing = set(')]}')\n",
    "    matches = set([('(',')'),('[',']'),('{','}')])\n",
    "    \n",
    "    for i,item in enumerate(ipstr):\n",
    "        \n",
    "        if item in opening:\n",
    "            paren_stack.push(item)\n",
    "        elif item in closing:\n",
    "            if not paren_stack.isEmpty():\n",
    "                last_open = paren_stack.pop()\n",
    "            \n",
    "                if (last_open,item) not in matches:\n",
    "                    return False\n",
    "            else:\n",
    "                return False\n",
    "                \n",
    "    if paren_stack.isEmpty():\n",
    "        return True\n",
    "    else:\n",
    "        return False\n",
    "    "
   ]
  },
  {
   "cell_type": "code",
   "execution_count": 58,
   "metadata": {
    "collapsed": false
   },
   "outputs": [
    {
     "name": "stdout",
     "output_type": "stream",
     "text": [
      "()(){]}\n",
      "7\n",
      "False\n"
     ]
    }
   ],
   "source": [
    "# ip_str = \"()\"\n",
    "# ip_str = \"{}\"\n",
    "# ip_str = \"[]\"\n",
    "# ip_str = \"([))\"\n",
    "\n",
    "#ip_str = \"[](){([[[]]])}\"\n",
    "\n",
    "ip_str = \"()(){]}\"\n",
    "\n",
    "\n",
    "is_balanced = balance_check(ip_str)\n",
    "print(is_balanced)"
   ]
  },
  {
   "cell_type": "code",
   "execution_count": 59,
   "metadata": {
    "collapsed": false
   },
   "outputs": [
    {
     "name": "stdout",
     "output_type": "stream",
     "text": [
      "[](){([[[]]])}(\n",
      "15\n",
      "[{{{(())}}}]((()))\n",
      "18\n",
      "[[[]])]\n",
      "7\n",
      "ALL TEST CASES PASSED\n"
     ]
    }
   ],
   "source": [
    "\"\"\"\n",
    "RUN THIS CELL TO TEST YOUR SOLUTION\n",
    "\"\"\"\n",
    "from nose.tools import assert_equal\n",
    "\n",
    "class TestBalanceCheck(object):\n",
    "    \n",
    "    def test(self,sol):\n",
    "        assert_equal(sol('[](){([[[]]])}('),False)\n",
    "        assert_equal(sol('[{{{(())}}}]((()))'),True)\n",
    "        assert_equal(sol('[[[]])]'),False)\n",
    "        print('ALL TEST CASES PASSED')\n",
    "        \n",
    "# Run Tests\n",
    "\n",
    "t = TestBalanceCheck()\n",
    "t.test(balance_check)"
   ]
  },
  {
   "cell_type": "code",
   "execution_count": null,
   "metadata": {
    "collapsed": true
   },
   "outputs": [],
   "source": []
  }
 ],
 "metadata": {
  "kernelspec": {
   "display_name": "Python [conda env:py35]",
   "language": "python",
   "name": "conda-env-py35-py"
  },
  "language_info": {
   "codemirror_mode": {
    "name": "ipython",
    "version": 3
   },
   "file_extension": ".py",
   "mimetype": "text/x-python",
   "name": "python",
   "nbconvert_exporter": "python",
   "pygments_lexer": "ipython3",
   "version": "3.5.2"
  }
 },
 "nbformat": 4,
 "nbformat_minor": 1
}
