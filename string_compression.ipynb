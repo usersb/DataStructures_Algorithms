{
 "cells": [
  {
   "cell_type": "markdown",
   "metadata": {},
   "source": [
    "**String Compression**\n",
    "\n",
    "**Problem**\n",
    "\n",
    "Given a string in the form 'AAAABBBBCCCCCDDEEEE' compress it to become 'A4B4C5D2E4'. For this problem, you can falsely \"compress\" strings of single or double letters. For instance, it is okay for 'AAB' to return 'A2B1' even though this technically takes more space.\n",
    "\n",
    "The function should also be case sensitive, so that a string 'AAAaaa' returns 'A3a3'."
   ]
  },
  {
   "cell_type": "code",
   "execution_count": 95,
   "metadata": {
    "collapsed": true
   },
   "outputs": [],
   "source": [
    "def compress(s):\n",
    "    s = s.strip()\n",
    "    \n",
    "    len_str = len(s)\n",
    "    letter_count = 0\n",
    "    current_letter = 'none'\n",
    "    opstr = \"\"\n",
    "    \n",
    "    # Check for length 0\n",
    "    if len_str == 0:\n",
    "        return ''\n",
    "    \n",
    "    # Check for length 1\n",
    "    if len_str == 1:\n",
    "        return s + \"1\"\n",
    "    \n",
    "    for i,letter in enumerate(s):\n",
    "        if letter != current_letter:\n",
    "            if current_letter != 'none':\n",
    "                opstr += current_letter\n",
    "                opstr += str(letter_count)\n",
    "                \n",
    "            current_letter = letter\n",
    "            letter_count = 0\n",
    "            letter_count += 1\n",
    "        else:\n",
    "            letter_count += 1\n",
    "            \n",
    "            if i == (len_str-1):\n",
    "                opstr += current_letter\n",
    "                opstr += str(letter_count)\n",
    "            \n",
    "    return opstr\n"
   ]
  },
  {
   "cell_type": "code",
   "execution_count": 97,
   "metadata": {
    "collapsed": false
   },
   "outputs": [
    {
     "name": "stdout",
     "output_type": "stream",
     "text": [
      "B1\n"
     ]
    }
   ],
   "source": [
    "#ip_str = 'AAAABBBBCCCCCDDEEEE'\n",
    "#ip_str = 'AAAABB'\n",
    "#ip_str = ''\n",
    "#ip_str ='AABBCC'\n",
    "#ip_str ='AAABCCDDDDD'\n",
    "ip_str = 'B'\n",
    "\n",
    "compressed_str = compress(ip_str)\n",
    "print(compressed_str)"
   ]
  },
  {
   "cell_type": "code",
   "execution_count": 96,
   "metadata": {
    "collapsed": false
   },
   "outputs": [
    {
     "name": "stdout",
     "output_type": "stream",
     "text": [
      "ALL TEST CASES PASSED\n"
     ]
    }
   ],
   "source": [
    "\"\"\"\n",
    "RUN THIS CELL TO TEST YOUR SOLUTION\n",
    "\"\"\"\n",
    "from nose.tools import assert_equal\n",
    "\n",
    "class TestCompress(object):\n",
    "\n",
    "    def test(self, sol):\n",
    "        assert_equal(sol(''), '')\n",
    "        assert_equal(sol('B'), 'B1')\n",
    "        assert_equal(sol('AABBCC'), 'A2B2C2')\n",
    "        assert_equal(sol('AAABCCDDDDD'), 'A3B1C2D5')\n",
    "        print('ALL TEST CASES PASSED')\n",
    "\n",
    "# Run Tests\n",
    "t = TestCompress()\n",
    "t.test(compress)"
   ]
  },
  {
   "cell_type": "code",
   "execution_count": null,
   "metadata": {
    "collapsed": true
   },
   "outputs": [],
   "source": []
  }
 ],
 "metadata": {
  "kernelspec": {
   "display_name": "Python [conda env:py35]",
   "language": "python",
   "name": "conda-env-py35-py"
  },
  "language_info": {
   "codemirror_mode": {
    "name": "ipython",
    "version": 3
   },
   "file_extension": ".py",
   "mimetype": "text/x-python",
   "name": "python",
   "nbconvert_exporter": "python",
   "pygments_lexer": "ipython3",
   "version": "3.5.2"
  }
 },
 "nbformat": 4,
 "nbformat_minor": 1
}
